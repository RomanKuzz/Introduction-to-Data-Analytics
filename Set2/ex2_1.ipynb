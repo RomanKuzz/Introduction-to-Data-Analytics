{
 "cells": [
  {
   "cell_type": "code",
   "execution_count": 1,
   "metadata": {},
   "outputs": [],
   "source": [
    "import pandas as pd"
   ]
  },
  {
   "cell_type": "code",
   "execution_count": 2,
   "metadata": {},
   "outputs": [],
   "source": [
    "%load_ext numpy_html"
   ]
  },
  {
   "cell_type": "code",
   "execution_count": 3,
   "metadata": {},
   "outputs": [
    {
     "data": {
      "text/html": [
       "<style>\n",
       "table {margin-top: 16pt;}\n",
       "td {font-family: Arial, Helvetica, sans-serif !important; font-weight: 600; white-space: normal !important;}\n",
       "tr:nth-child(even) {background: #b0d9eb !important; color: black}\n",
       "tr:nth-child(odd) {background: #8fb1bf !important; color: black}\n",
       "</style>\n"
      ],
      "text/plain": [
       "<IPython.core.display.HTML object>"
      ]
     },
     "metadata": {},
     "output_type": "display_data"
    }
   ],
   "source": [
    "%%html\n",
    "<style>\n",
    "table {margin-top: 16pt;}\n",
    "td {font-family: Arial, Helvetica, sans-serif !important; font-weight: 600; white-space: normal !important;}\n",
    "tr:nth-child(even) {background: #b0d9eb !important; color: black}\n",
    "tr:nth-child(odd) {background: #8fb1bf !important; color: black}\n",
    "</style>"
   ]
  },
  {
   "cell_type": "code",
   "execution_count": 4,
   "metadata": {},
   "outputs": [
    {
     "data": {
      "text/html": [
       "<div>\n",
       "<style scoped>\n",
       "    .dataframe tbody tr th:only-of-type {\n",
       "        vertical-align: middle;\n",
       "    }\n",
       "\n",
       "    .dataframe tbody tr th {\n",
       "        vertical-align: top;\n",
       "    }\n",
       "\n",
       "    .dataframe thead th {\n",
       "        text-align: right;\n",
       "    }\n",
       "</style>\n",
       "<table border=\"1\" class=\"dataframe\">\n",
       "  <thead>\n",
       "    <tr style=\"text-align: right;\">\n",
       "      <th></th>\n",
       "      <th>Loan ID</th>\n",
       "      <th>Customer ID</th>\n",
       "      <th>Loan Status</th>\n",
       "      <th>Current Loan Amount</th>\n",
       "      <th>Term</th>\n",
       "      <th>Credit Score</th>\n",
       "      <th>Annual Income</th>\n",
       "      <th>Years in current job</th>\n",
       "      <th>Home Ownership</th>\n",
       "      <th>Purpose</th>\n",
       "      <th>Monthly Debt</th>\n",
       "      <th>Years of Credit History</th>\n",
       "      <th>Months since last delinquent</th>\n",
       "      <th>Number of Open Accounts</th>\n",
       "      <th>Number of Credit Problems</th>\n",
       "      <th>Current Credit Balance</th>\n",
       "      <th>Maximum Open Credit</th>\n",
       "      <th>Bankruptcies</th>\n",
       "      <th>Tax Liens</th>\n",
       "    </tr>\n",
       "  </thead>\n",
       "  <tbody>\n",
       "    <tr>\n",
       "      <th>0</th>\n",
       "      <td>14dd8831-6af5-400b-83ec-68e61888a048</td>\n",
       "      <td>981165ec-3274-42f5-a3b4-d104041a9ca9</td>\n",
       "      <td>Fully Paid</td>\n",
       "      <td>445412.0</td>\n",
       "      <td>Short Term</td>\n",
       "      <td>709.0</td>\n",
       "      <td>1167493.0</td>\n",
       "      <td>8 years</td>\n",
       "      <td>Home Mortgage</td>\n",
       "      <td>Home Improvements</td>\n",
       "      <td>5214.74</td>\n",
       "      <td>17.2</td>\n",
       "      <td>NaN</td>\n",
       "      <td>6.0</td>\n",
       "      <td>1.0</td>\n",
       "      <td>228190.0</td>\n",
       "      <td>416746.0</td>\n",
       "      <td>1.0</td>\n",
       "      <td>0.0</td>\n",
       "    </tr>\n",
       "    <tr>\n",
       "      <th>1</th>\n",
       "      <td>4771cc26-131a-45db-b5aa-537ea4ba5342</td>\n",
       "      <td>2de017a3-2e01-49cb-a581-08169e83be29</td>\n",
       "      <td>Fully Paid</td>\n",
       "      <td>262328.0</td>\n",
       "      <td>Short Term</td>\n",
       "      <td>NaN</td>\n",
       "      <td>NaN</td>\n",
       "      <td>10+ years</td>\n",
       "      <td>Home Mortgage</td>\n",
       "      <td>Debt Consolidation</td>\n",
       "      <td>33295.98</td>\n",
       "      <td>21.1</td>\n",
       "      <td>8.0</td>\n",
       "      <td>35.0</td>\n",
       "      <td>0.0</td>\n",
       "      <td>229976.0</td>\n",
       "      <td>850784.0</td>\n",
       "      <td>0.0</td>\n",
       "      <td>0.0</td>\n",
       "    </tr>\n",
       "    <tr>\n",
       "      <th>2</th>\n",
       "      <td>4eed4e6a-aa2f-4c91-8651-ce984ee8fb26</td>\n",
       "      <td>5efb2b2b-bf11-4dfd-a572-3761a2694725</td>\n",
       "      <td>Fully Paid</td>\n",
       "      <td>99999999.0</td>\n",
       "      <td>Short Term</td>\n",
       "      <td>741.0</td>\n",
       "      <td>2231892.0</td>\n",
       "      <td>8 years</td>\n",
       "      <td>Own Home</td>\n",
       "      <td>Debt Consolidation</td>\n",
       "      <td>29200.53</td>\n",
       "      <td>14.9</td>\n",
       "      <td>29.0</td>\n",
       "      <td>18.0</td>\n",
       "      <td>1.0</td>\n",
       "      <td>297996.0</td>\n",
       "      <td>750090.0</td>\n",
       "      <td>0.0</td>\n",
       "      <td>0.0</td>\n",
       "    </tr>\n",
       "    <tr>\n",
       "      <th>3</th>\n",
       "      <td>77598f7b-32e7-4e3b-a6e5-06ba0d98fe8a</td>\n",
       "      <td>e777faab-98ae-45af-9a86-7ce5b33b1011</td>\n",
       "      <td>Fully Paid</td>\n",
       "      <td>347666.0</td>\n",
       "      <td>Long Term</td>\n",
       "      <td>721.0</td>\n",
       "      <td>806949.0</td>\n",
       "      <td>3 years</td>\n",
       "      <td>Own Home</td>\n",
       "      <td>Debt Consolidation</td>\n",
       "      <td>8741.90</td>\n",
       "      <td>12.0</td>\n",
       "      <td>NaN</td>\n",
       "      <td>9.0</td>\n",
       "      <td>0.0</td>\n",
       "      <td>256329.0</td>\n",
       "      <td>386958.0</td>\n",
       "      <td>0.0</td>\n",
       "      <td>0.0</td>\n",
       "    </tr>\n",
       "    <tr>\n",
       "      <th>4</th>\n",
       "      <td>d4062e70-befa-4995-8643-a0de73938182</td>\n",
       "      <td>81536ad9-5ccf-4eb8-befb-47a4d608658e</td>\n",
       "      <td>Fully Paid</td>\n",
       "      <td>176220.0</td>\n",
       "      <td>Short Term</td>\n",
       "      <td>NaN</td>\n",
       "      <td>NaN</td>\n",
       "      <td>5 years</td>\n",
       "      <td>Rent</td>\n",
       "      <td>Debt Consolidation</td>\n",
       "      <td>20639.70</td>\n",
       "      <td>6.1</td>\n",
       "      <td>NaN</td>\n",
       "      <td>15.0</td>\n",
       "      <td>0.0</td>\n",
       "      <td>253460.0</td>\n",
       "      <td>427174.0</td>\n",
       "      <td>0.0</td>\n",
       "      <td>0.0</td>\n",
       "    </tr>\n",
       "  </tbody>\n",
       "</table>\n",
       "</div>"
      ],
      "text/plain": [
       "                                Loan ID                           Customer ID  \\\n",
       "0  14dd8831-6af5-400b-83ec-68e61888a048  981165ec-3274-42f5-a3b4-d104041a9ca9   \n",
       "1  4771cc26-131a-45db-b5aa-537ea4ba5342  2de017a3-2e01-49cb-a581-08169e83be29   \n",
       "2  4eed4e6a-aa2f-4c91-8651-ce984ee8fb26  5efb2b2b-bf11-4dfd-a572-3761a2694725   \n",
       "3  77598f7b-32e7-4e3b-a6e5-06ba0d98fe8a  e777faab-98ae-45af-9a86-7ce5b33b1011   \n",
       "4  d4062e70-befa-4995-8643-a0de73938182  81536ad9-5ccf-4eb8-befb-47a4d608658e   \n",
       "\n",
       "  Loan Status  Current Loan Amount        Term  Credit Score  Annual Income  \\\n",
       "0  Fully Paid             445412.0  Short Term         709.0      1167493.0   \n",
       "1  Fully Paid             262328.0  Short Term           NaN            NaN   \n",
       "2  Fully Paid           99999999.0  Short Term         741.0      2231892.0   \n",
       "3  Fully Paid             347666.0   Long Term         721.0       806949.0   \n",
       "4  Fully Paid             176220.0  Short Term           NaN            NaN   \n",
       "\n",
       "  Years in current job Home Ownership             Purpose  Monthly Debt  \\\n",
       "0              8 years  Home Mortgage   Home Improvements       5214.74   \n",
       "1            10+ years  Home Mortgage  Debt Consolidation      33295.98   \n",
       "2              8 years       Own Home  Debt Consolidation      29200.53   \n",
       "3              3 years       Own Home  Debt Consolidation       8741.90   \n",
       "4              5 years           Rent  Debt Consolidation      20639.70   \n",
       "\n",
       "   Years of Credit History  Months since last delinquent  \\\n",
       "0                     17.2                           NaN   \n",
       "1                     21.1                           8.0   \n",
       "2                     14.9                          29.0   \n",
       "3                     12.0                           NaN   \n",
       "4                      6.1                           NaN   \n",
       "\n",
       "   Number of Open Accounts  Number of Credit Problems  Current Credit Balance  \\\n",
       "0                      6.0                        1.0                228190.0   \n",
       "1                     35.0                        0.0                229976.0   \n",
       "2                     18.0                        1.0                297996.0   \n",
       "3                      9.0                        0.0                256329.0   \n",
       "4                     15.0                        0.0                253460.0   \n",
       "\n",
       "   Maximum Open Credit  Bankruptcies  Tax Liens  \n",
       "0             416746.0           1.0        0.0  \n",
       "1             850784.0           0.0        0.0  \n",
       "2             750090.0           0.0        0.0  \n",
       "3             386958.0           0.0        0.0  \n",
       "4             427174.0           0.0        0.0  "
      ]
     },
     "execution_count": 4,
     "metadata": {},
     "output_type": "execute_result"
    }
   ],
   "source": [
    "# Read the Excel file into a DataFrame\n",
    "df = pd.read_csv(\"loans.csv\")\n",
    "\n",
    "# Display the first 5 rows\n",
    "df.head()"
   ]
  },
  {
   "cell_type": "code",
   "execution_count": 5,
   "metadata": {},
   "outputs": [],
   "source": [
    "max = 99999999\n",
    "df = df[df['Current Loan Amount'] < max]"
   ]
  },
  {
   "cell_type": "code",
   "execution_count": 6,
   "metadata": {},
   "outputs": [],
   "source": [
    "# df = df.dropna(subset=['Annual Income'])\n",
    "average = df['Current Loan Amount'].mean()\n",
    "df['Annual Income'] = df['Annual Income'].fillna(average)"
   ]
  },
  {
   "cell_type": "code",
   "execution_count": 7,
   "metadata": {},
   "outputs": [
    {
     "data": {
      "text/plain": [
       "76627.0"
      ]
     },
     "execution_count": 7,
     "metadata": {},
     "output_type": "execute_result"
    }
   ],
   "source": [
    "min1 = df['Annual Income'].min()\n",
    "min1"
   ]
  },
  {
   "cell_type": "code",
   "execution_count": 8,
   "metadata": {},
   "outputs": [
    {
     "data": {
      "text/plain": [
       "165557393.0"
      ]
     },
     "execution_count": 8,
     "metadata": {},
     "output_type": "execute_result"
    }
   ],
   "source": [
    "max1 = df['Annual Income'].max()\n",
    "max1"
   ]
  },
  {
   "cell_type": "code",
   "execution_count": 9,
   "metadata": {},
   "outputs": [
    {
     "data": {
      "text/plain": [
       "'Own Home'"
      ]
     },
     "execution_count": 9,
     "metadata": {},
     "output_type": "execute_result"
    }
   ],
   "source": [
    "ID1 = 'bbf87a87-22cd-4d10-bd9b-7a9cc1b6e59d'\n",
    "result1 = df.loc[df['Loan ID'] == ID1, 'Home Ownership'].values[0]\n",
    "result1"
   ]
  },
  {
   "cell_type": "code",
   "execution_count": 10,
   "metadata": {},
   "outputs": [],
   "source": [
    "df['Actual Annual Income'] = df['Annual Income'] - 12 * df['Monthly Debt']"
   ]
  },
  {
   "cell_type": "code",
   "execution_count": 11,
   "metadata": {},
   "outputs": [
    {
     "data": {
      "text/plain": [
       "674234.76"
      ]
     },
     "execution_count": 11,
     "metadata": {},
     "output_type": "execute_result"
    }
   ],
   "source": [
    "ID2 = '76fa89b9-e6a8-49af-afa1-8151315aba8e'\n",
    "result2 = df.loc[df['Loan ID'] == ID2, 'Actual Annual Income'].values[0]\n",
    "result2"
   ]
  },
  {
   "cell_type": "code",
   "execution_count": 12,
   "metadata": {},
   "outputs": [
    {
     "data": {
      "text/plain": [
       "'0a84b8ab-ed2f-474f-a3a9-8bf5bb90c31a'"
      ]
     },
     "execution_count": 12,
     "metadata": {},
     "output_type": "execute_result"
    }
   ],
   "source": [
    "inc = df.loc[df['Actual Annual Income'].idxmin()]\n",
    "id = inc['Loan ID']\n",
    "id"
   ]
  },
  {
   "cell_type": "code",
   "execution_count": 13,
   "metadata": {},
   "outputs": [
    {
     "data": {
      "text/plain": [
       "25475"
      ]
     },
     "execution_count": 13,
     "metadata": {},
     "output_type": "execute_result"
    }
   ],
   "source": [
    "long_term = (df['Term'] == 'Long Term').sum()\n",
    "long_term"
   ]
  },
  {
   "cell_type": "code",
   "execution_count": 14,
   "metadata": {},
   "outputs": [
    {
     "data": {
      "text/plain": [
       "476"
      ]
     },
     "execution_count": 14,
     "metadata": {},
     "output_type": "execute_result"
    }
   ],
   "source": [
    "bankr = (df['Bankruptcies'] > 1).sum()\n",
    "bankr"
   ]
  },
  {
   "cell_type": "code",
   "execution_count": 15,
   "metadata": {},
   "outputs": [
    {
     "data": {
      "text/plain": [
       "3490"
      ]
     },
     "execution_count": 15,
     "metadata": {},
     "output_type": "execute_result"
    }
   ],
   "source": [
    "df = df[df['Purpose'] == 'Home Improvements']\n",
    "short_term = (df['Term'] == 'Short Term').sum()\n",
    "short_term"
   ]
  },
  {
   "cell_type": "code",
   "execution_count": 16,
   "metadata": {},
   "outputs": [
    {
     "data": {
      "text/plain": [
       "1"
      ]
     },
     "execution_count": 16,
     "metadata": {},
     "output_type": "execute_result"
    }
   ],
   "source": [
    "uniq = df['Purpose'].nunique()\n",
    "uniq"
   ]
  },
  {
   "cell_type": "code",
   "execution_count": 17,
   "metadata": {},
   "outputs": [
    {
     "data": {
      "text/plain": [
       "count                  5124\n",
       "unique                    1\n",
       "top       Home Improvements\n",
       "freq                   5124\n",
       "Name: Purpose, dtype: object"
      ]
     },
     "execution_count": 17,
     "metadata": {},
     "output_type": "execute_result"
    }
   ],
   "source": [
    "mc = df['Purpose'].describe()\n",
    "mc"
   ]
  },
  {
   "cell_type": "code",
   "execution_count": 18,
   "metadata": {},
   "outputs": [
    {
     "data": {
      "text/plain": [
       "Purpose\n",
       "Home Improvements    5124\n",
       "Name: count, dtype: int64"
      ]
     },
     "execution_count": 18,
     "metadata": {},
     "output_type": "execute_result"
    }
   ],
   "source": [
    "most_common_values = df['Purpose'].value_counts().nlargest(3)\n",
    "most_common_values"
   ]
  },
  {
   "cell_type": "code",
   "execution_count": 22,
   "metadata": {},
   "outputs": [
    {
     "data": {
      "text/html": [
       "<div>\n",
       "<style scoped>\n",
       "    .dataframe tbody tr th:only-of-type {\n",
       "        vertical-align: middle;\n",
       "    }\n",
       "\n",
       "    .dataframe tbody tr th {\n",
       "        vertical-align: top;\n",
       "    }\n",
       "\n",
       "    .dataframe thead th {\n",
       "        text-align: right;\n",
       "    }\n",
       "</style>\n",
       "<table border=\"1\" class=\"dataframe\">\n",
       "  <thead>\n",
       "    <tr style=\"text-align: right;\">\n",
       "      <th></th>\n",
       "      <th>Current Loan Amount</th>\n",
       "      <th>Credit Score</th>\n",
       "      <th>Annual Income</th>\n",
       "      <th>Monthly Debt</th>\n",
       "      <th>Years of Credit History</th>\n",
       "      <th>Months since last delinquent</th>\n",
       "      <th>Number of Open Accounts</th>\n",
       "      <th>Number of Credit Problems</th>\n",
       "      <th>Current Credit Balance</th>\n",
       "      <th>Maximum Open Credit</th>\n",
       "      <th>Bankruptcies</th>\n",
       "      <th>Tax Liens</th>\n",
       "      <th>Actual Annual Income</th>\n",
       "    </tr>\n",
       "  </thead>\n",
       "  <tbody>\n",
       "    <tr>\n",
       "      <th>Current Loan Amount</th>\n",
       "      <td>1.000000</td>\n",
       "      <td>0.009985</td>\n",
       "      <td>0.320468</td>\n",
       "      <td>0.257249</td>\n",
       "      <td>0.055016</td>\n",
       "      <td>-0.027836</td>\n",
       "      <td>0.114490</td>\n",
       "      <td>-0.019662</td>\n",
       "      <td>0.174595</td>\n",
       "      <td>0.086700</td>\n",
       "      <td>-0.030753</td>\n",
       "      <td>0.026764</td>\n",
       "      <td>0.300333</td>\n",
       "    </tr>\n",
       "    <tr>\n",
       "      <th>Credit Score</th>\n",
       "      <td>0.009985</td>\n",
       "      <td>1.000000</td>\n",
       "      <td>-0.035360</td>\n",
       "      <td>-0.017441</td>\n",
       "      <td>-0.025524</td>\n",
       "      <td>-0.038301</td>\n",
       "      <td>-0.008196</td>\n",
       "      <td>0.036099</td>\n",
       "      <td>-0.024437</td>\n",
       "      <td>-0.017052</td>\n",
       "      <td>0.021704</td>\n",
       "      <td>0.039396</td>\n",
       "      <td>-0.035236</td>\n",
       "    </tr>\n",
       "    <tr>\n",
       "      <th>Annual Income</th>\n",
       "      <td>0.320468</td>\n",
       "      <td>-0.035360</td>\n",
       "      <td>1.000000</td>\n",
       "      <td>0.412788</td>\n",
       "      <td>0.116563</td>\n",
       "      <td>-0.070868</td>\n",
       "      <td>0.117683</td>\n",
       "      <td>-0.030401</td>\n",
       "      <td>0.289807</td>\n",
       "      <td>0.118527</td>\n",
       "      <td>-0.050067</td>\n",
       "      <td>0.026646</td>\n",
       "      <td>0.991819</td>\n",
       "    </tr>\n",
       "    <tr>\n",
       "      <th>Monthly Debt</th>\n",
       "      <td>0.257249</td>\n",
       "      <td>-0.017441</td>\n",
       "      <td>0.412788</td>\n",
       "      <td>1.000000</td>\n",
       "      <td>0.134158</td>\n",
       "      <td>-0.077410</td>\n",
       "      <td>0.404758</td>\n",
       "      <td>-0.048469</td>\n",
       "      <td>0.412412</td>\n",
       "      <td>0.084729</td>\n",
       "      <td>-0.064572</td>\n",
       "      <td>0.043151</td>\n",
       "      <td>0.293142</td>\n",
       "    </tr>\n",
       "    <tr>\n",
       "      <th>Years of Credit History</th>\n",
       "      <td>0.055016</td>\n",
       "      <td>-0.025524</td>\n",
       "      <td>0.116563</td>\n",
       "      <td>0.134158</td>\n",
       "      <td>1.000000</td>\n",
       "      <td>-0.028640</td>\n",
       "      <td>0.097534</td>\n",
       "      <td>0.048582</td>\n",
       "      <td>0.129562</td>\n",
       "      <td>0.074062</td>\n",
       "      <td>0.036595</td>\n",
       "      <td>0.031509</td>\n",
       "      <td>0.103551</td>\n",
       "    </tr>\n",
       "    <tr>\n",
       "      <th>Months since last delinquent</th>\n",
       "      <td>-0.027836</td>\n",
       "      <td>-0.038301</td>\n",
       "      <td>-0.070868</td>\n",
       "      <td>-0.077410</td>\n",
       "      <td>-0.028640</td>\n",
       "      <td>1.000000</td>\n",
       "      <td>-0.039502</td>\n",
       "      <td>0.126800</td>\n",
       "      <td>-0.062078</td>\n",
       "      <td>-0.035909</td>\n",
       "      <td>0.147919</td>\n",
       "      <td>-0.001551</td>\n",
       "      <td>-0.063594</td>\n",
       "    </tr>\n",
       "    <tr>\n",
       "      <th>Number of Open Accounts</th>\n",
       "      <td>0.114490</td>\n",
       "      <td>-0.008196</td>\n",
       "      <td>0.117683</td>\n",
       "      <td>0.404758</td>\n",
       "      <td>0.097534</td>\n",
       "      <td>-0.039502</td>\n",
       "      <td>1.000000</td>\n",
       "      <td>-0.006389</td>\n",
       "      <td>0.193637</td>\n",
       "      <td>0.076978</td>\n",
       "      <td>-0.023530</td>\n",
       "      <td>0.024735</td>\n",
       "      <td>0.066801</td>\n",
       "    </tr>\n",
       "    <tr>\n",
       "      <th>Number of Credit Problems</th>\n",
       "      <td>-0.019662</td>\n",
       "      <td>0.036099</td>\n",
       "      <td>-0.030401</td>\n",
       "      <td>-0.048469</td>\n",
       "      <td>0.048582</td>\n",
       "      <td>0.126800</td>\n",
       "      <td>-0.006389</td>\n",
       "      <td>1.000000</td>\n",
       "      <td>-0.104029</td>\n",
       "      <td>-0.048843</td>\n",
       "      <td>0.779625</td>\n",
       "      <td>0.545603</td>\n",
       "      <td>-0.025118</td>\n",
       "    </tr>\n",
       "    <tr>\n",
       "      <th>Current Credit Balance</th>\n",
       "      <td>0.174595</td>\n",
       "      <td>-0.024437</td>\n",
       "      <td>0.289807</td>\n",
       "      <td>0.412412</td>\n",
       "      <td>0.129562</td>\n",
       "      <td>-0.062078</td>\n",
       "      <td>0.193637</td>\n",
       "      <td>-0.104029</td>\n",
       "      <td>1.000000</td>\n",
       "      <td>0.408529</td>\n",
       "      <td>-0.111122</td>\n",
       "      <td>-0.005799</td>\n",
       "      <td>0.246403</td>\n",
       "    </tr>\n",
       "    <tr>\n",
       "      <th>Maximum Open Credit</th>\n",
       "      <td>0.086700</td>\n",
       "      <td>-0.017052</td>\n",
       "      <td>0.118527</td>\n",
       "      <td>0.084729</td>\n",
       "      <td>0.074062</td>\n",
       "      <td>-0.035909</td>\n",
       "      <td>0.076978</td>\n",
       "      <td>-0.048843</td>\n",
       "      <td>0.408529</td>\n",
       "      <td>1.000000</td>\n",
       "      <td>-0.050899</td>\n",
       "      <td>-0.005677</td>\n",
       "      <td>0.112539</td>\n",
       "    </tr>\n",
       "    <tr>\n",
       "      <th>Bankruptcies</th>\n",
       "      <td>-0.030753</td>\n",
       "      <td>0.021704</td>\n",
       "      <td>-0.050067</td>\n",
       "      <td>-0.064572</td>\n",
       "      <td>0.036595</td>\n",
       "      <td>0.147919</td>\n",
       "      <td>-0.023530</td>\n",
       "      <td>0.779625</td>\n",
       "      <td>-0.111122</td>\n",
       "      <td>-0.050899</td>\n",
       "      <td>1.000000</td>\n",
       "      <td>0.099047</td>\n",
       "      <td>-0.043511</td>\n",
       "    </tr>\n",
       "    <tr>\n",
       "      <th>Tax Liens</th>\n",
       "      <td>0.026764</td>\n",
       "      <td>0.039396</td>\n",
       "      <td>0.026646</td>\n",
       "      <td>0.043151</td>\n",
       "      <td>0.031509</td>\n",
       "      <td>-0.001551</td>\n",
       "      <td>0.024735</td>\n",
       "      <td>0.545603</td>\n",
       "      <td>-0.005799</td>\n",
       "      <td>-0.005677</td>\n",
       "      <td>0.099047</td>\n",
       "      <td>1.000000</td>\n",
       "      <td>0.021922</td>\n",
       "    </tr>\n",
       "    <tr>\n",
       "      <th>Actual Annual Income</th>\n",
       "      <td>0.300333</td>\n",
       "      <td>-0.035236</td>\n",
       "      <td>0.991819</td>\n",
       "      <td>0.293142</td>\n",
       "      <td>0.103551</td>\n",
       "      <td>-0.063594</td>\n",
       "      <td>0.066801</td>\n",
       "      <td>-0.025118</td>\n",
       "      <td>0.246403</td>\n",
       "      <td>0.112539</td>\n",
       "      <td>-0.043511</td>\n",
       "      <td>0.021922</td>\n",
       "      <td>1.000000</td>\n",
       "    </tr>\n",
       "  </tbody>\n",
       "</table>\n",
       "</div>"
      ],
      "text/plain": [
       "                              Current Loan Amount  Credit Score  \\\n",
       "Current Loan Amount                      1.000000      0.009985   \n",
       "Credit Score                             0.009985      1.000000   \n",
       "Annual Income                            0.320468     -0.035360   \n",
       "Monthly Debt                             0.257249     -0.017441   \n",
       "Years of Credit History                  0.055016     -0.025524   \n",
       "Months since last delinquent            -0.027836     -0.038301   \n",
       "Number of Open Accounts                  0.114490     -0.008196   \n",
       "Number of Credit Problems               -0.019662      0.036099   \n",
       "Current Credit Balance                   0.174595     -0.024437   \n",
       "Maximum Open Credit                      0.086700     -0.017052   \n",
       "Bankruptcies                            -0.030753      0.021704   \n",
       "Tax Liens                                0.026764      0.039396   \n",
       "Actual Annual Income                     0.300333     -0.035236   \n",
       "\n",
       "                              Annual Income  Monthly Debt  \\\n",
       "Current Loan Amount                0.320468      0.257249   \n",
       "Credit Score                      -0.035360     -0.017441   \n",
       "Annual Income                      1.000000      0.412788   \n",
       "Monthly Debt                       0.412788      1.000000   \n",
       "Years of Credit History            0.116563      0.134158   \n",
       "Months since last delinquent      -0.070868     -0.077410   \n",
       "Number of Open Accounts            0.117683      0.404758   \n",
       "Number of Credit Problems         -0.030401     -0.048469   \n",
       "Current Credit Balance             0.289807      0.412412   \n",
       "Maximum Open Credit                0.118527      0.084729   \n",
       "Bankruptcies                      -0.050067     -0.064572   \n",
       "Tax Liens                          0.026646      0.043151   \n",
       "Actual Annual Income               0.991819      0.293142   \n",
       "\n",
       "                              Years of Credit History  \\\n",
       "Current Loan Amount                          0.055016   \n",
       "Credit Score                                -0.025524   \n",
       "Annual Income                                0.116563   \n",
       "Monthly Debt                                 0.134158   \n",
       "Years of Credit History                      1.000000   \n",
       "Months since last delinquent                -0.028640   \n",
       "Number of Open Accounts                      0.097534   \n",
       "Number of Credit Problems                    0.048582   \n",
       "Current Credit Balance                       0.129562   \n",
       "Maximum Open Credit                          0.074062   \n",
       "Bankruptcies                                 0.036595   \n",
       "Tax Liens                                    0.031509   \n",
       "Actual Annual Income                         0.103551   \n",
       "\n",
       "                              Months since last delinquent  \\\n",
       "Current Loan Amount                              -0.027836   \n",
       "Credit Score                                     -0.038301   \n",
       "Annual Income                                    -0.070868   \n",
       "Monthly Debt                                     -0.077410   \n",
       "Years of Credit History                          -0.028640   \n",
       "Months since last delinquent                      1.000000   \n",
       "Number of Open Accounts                          -0.039502   \n",
       "Number of Credit Problems                         0.126800   \n",
       "Current Credit Balance                           -0.062078   \n",
       "Maximum Open Credit                              -0.035909   \n",
       "Bankruptcies                                      0.147919   \n",
       "Tax Liens                                        -0.001551   \n",
       "Actual Annual Income                             -0.063594   \n",
       "\n",
       "                              Number of Open Accounts  \\\n",
       "Current Loan Amount                          0.114490   \n",
       "Credit Score                                -0.008196   \n",
       "Annual Income                                0.117683   \n",
       "Monthly Debt                                 0.404758   \n",
       "Years of Credit History                      0.097534   \n",
       "Months since last delinquent                -0.039502   \n",
       "Number of Open Accounts                      1.000000   \n",
       "Number of Credit Problems                   -0.006389   \n",
       "Current Credit Balance                       0.193637   \n",
       "Maximum Open Credit                          0.076978   \n",
       "Bankruptcies                                -0.023530   \n",
       "Tax Liens                                    0.024735   \n",
       "Actual Annual Income                         0.066801   \n",
       "\n",
       "                              Number of Credit Problems  \\\n",
       "Current Loan Amount                           -0.019662   \n",
       "Credit Score                                   0.036099   \n",
       "Annual Income                                 -0.030401   \n",
       "Monthly Debt                                  -0.048469   \n",
       "Years of Credit History                        0.048582   \n",
       "Months since last delinquent                   0.126800   \n",
       "Number of Open Accounts                       -0.006389   \n",
       "Number of Credit Problems                      1.000000   \n",
       "Current Credit Balance                        -0.104029   \n",
       "Maximum Open Credit                           -0.048843   \n",
       "Bankruptcies                                   0.779625   \n",
       "Tax Liens                                      0.545603   \n",
       "Actual Annual Income                          -0.025118   \n",
       "\n",
       "                              Current Credit Balance  Maximum Open Credit  \\\n",
       "Current Loan Amount                         0.174595             0.086700   \n",
       "Credit Score                               -0.024437            -0.017052   \n",
       "Annual Income                               0.289807             0.118527   \n",
       "Monthly Debt                                0.412412             0.084729   \n",
       "Years of Credit History                     0.129562             0.074062   \n",
       "Months since last delinquent               -0.062078            -0.035909   \n",
       "Number of Open Accounts                     0.193637             0.076978   \n",
       "Number of Credit Problems                  -0.104029            -0.048843   \n",
       "Current Credit Balance                      1.000000             0.408529   \n",
       "Maximum Open Credit                         0.408529             1.000000   \n",
       "Bankruptcies                               -0.111122            -0.050899   \n",
       "Tax Liens                                  -0.005799            -0.005677   \n",
       "Actual Annual Income                        0.246403             0.112539   \n",
       "\n",
       "                              Bankruptcies  Tax Liens  Actual Annual Income  \n",
       "Current Loan Amount              -0.030753   0.026764              0.300333  \n",
       "Credit Score                      0.021704   0.039396             -0.035236  \n",
       "Annual Income                    -0.050067   0.026646              0.991819  \n",
       "Monthly Debt                     -0.064572   0.043151              0.293142  \n",
       "Years of Credit History           0.036595   0.031509              0.103551  \n",
       "Months since last delinquent      0.147919  -0.001551             -0.063594  \n",
       "Number of Open Accounts          -0.023530   0.024735              0.066801  \n",
       "Number of Credit Problems         0.779625   0.545603             -0.025118  \n",
       "Current Credit Balance           -0.111122  -0.005799              0.246403  \n",
       "Maximum Open Credit              -0.050899  -0.005677              0.112539  \n",
       "Bankruptcies                      1.000000   0.099047             -0.043511  \n",
       "Tax Liens                         0.099047   1.000000              0.021922  \n",
       "Actual Annual Income             -0.043511   0.021922              1.000000  "
      ]
     },
     "execution_count": 22,
     "metadata": {},
     "output_type": "execute_result"
    }
   ],
   "source": [
    "correlation_matrix = df.corr(numeric_only=True)\n",
    "correlation_matrix"
   ]
  },
  {
   "cell_type": "code",
   "execution_count": 21,
   "metadata": {},
   "outputs": [
    {
     "data": {
      "text/plain": [
       "0.11768251999868755"
      ]
     },
     "execution_count": 21,
     "metadata": {},
     "output_type": "execute_result"
    }
   ],
   "source": [
    "cor1 = df['Annual Income'].corr(df['Number of Open Accounts'])\n",
    "cor1"
   ]
  },
  {
   "cell_type": "code",
   "execution_count": 20,
   "metadata": {},
   "outputs": [
    {
     "data": {
      "text/plain": [
       "0.7796246291033961"
      ]
     },
     "execution_count": 20,
     "metadata": {},
     "output_type": "execute_result"
    }
   ],
   "source": [
    "cor2 = df['Number of Credit Problems'].corr(df['Bankruptcies'])\n",
    "cor2"
   ]
  },
  {
   "cell_type": "markdown",
   "metadata": {},
   "source": [
    "<b>There is a high correlation between 'Number of Credit Problems' and 'Bankruptcies', (0.78) which is obvious\n",
    "since if you have problems with credits, you will likely to go bankrupt soon. 'Annual Income' and \n",
    "'Number of Open Accounts' do not have almost any correlation (0.12), I guess it does not really matter\n",
    "how much you make, you still need a bank account in your life.</b>"
   ]
  }
 ],
 "metadata": {
  "kernelspec": {
   "display_name": "Python 3",
   "language": "python",
   "name": "python3"
  },
  "language_info": {
   "codemirror_mode": {
    "name": "ipython",
    "version": 3
   },
   "file_extension": ".py",
   "mimetype": "text/x-python",
   "name": "python",
   "nbconvert_exporter": "python",
   "pygments_lexer": "ipython3",
   "version": "3.9.13"
  }
 },
 "nbformat": 4,
 "nbformat_minor": 2
}
