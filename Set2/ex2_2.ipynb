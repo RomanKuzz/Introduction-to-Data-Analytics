{
 "cells": [
  {
   "cell_type": "code",
   "execution_count": 1,
   "metadata": {},
   "outputs": [],
   "source": [
    "import pandas as pd"
   ]
  },
  {
   "cell_type": "code",
   "execution_count": 2,
   "metadata": {},
   "outputs": [],
   "source": [
    "%load_ext numpy_html"
   ]
  },
  {
   "cell_type": "code",
   "execution_count": 3,
   "metadata": {},
   "outputs": [
    {
     "data": {
      "text/html": [
       "<style>\n",
       "table {margin-top: 16pt;}\n",
       "td {font-family: Arial, Helvetica, sans-serif !important; font-weight: 600; white-space: normal !important;}\n",
       "tr:nth-child(even) {background: #b0d9eb !important; color: black}\n",
       "tr:nth-child(odd) {background: #8fb1bf !important; color: black}\n",
       "</style>\n"
      ],
      "text/plain": [
       "<IPython.core.display.HTML object>"
      ]
     },
     "metadata": {},
     "output_type": "display_data"
    }
   ],
   "source": [
    "%%html\n",
    "<style>\n",
    "table {margin-top: 16pt;}\n",
    "td {font-family: Arial, Helvetica, sans-serif !important; font-weight: 600; white-space: normal !important;}\n",
    "tr:nth-child(even) {background: #b0d9eb !important; color: black}\n",
    "tr:nth-child(odd) {background: #8fb1bf !important; color: black}\n",
    "</style>"
   ]
  },
  {
   "cell_type": "code",
   "execution_count": 4,
   "metadata": {},
   "outputs": [],
   "source": [
    "# Read the Excel file into a DataFrame\n",
    "df = pd.read_csv(\"purchases.csv\")"
   ]
  },
  {
   "cell_type": "code",
   "execution_count": 5,
   "metadata": {},
   "outputs": [
    {
     "data": {
      "text/plain": [
       "1245.0400000000002"
      ]
     },
     "execution_count": 5,
     "metadata": {},
     "output_type": "execute_result"
    }
   ],
   "source": [
    "df1 = df[df['Purchase Order Number'] == '018H2015']\n",
    "total_price_sum = (df1['Total Price']).sum()\n",
    "total_price_sum"
   ]
  },
  {
   "cell_type": "code",
   "execution_count": 6,
   "metadata": {},
   "outputs": [
    {
     "name": "stdout",
     "output_type": "stream",
     "text": [
      "Item Name: PC Desktop\n",
      "Item Description: HP Prodesk 600\n"
     ]
    }
   ],
   "source": [
    "number = '3176273'\n",
    "\n",
    "item_info = df[df['Purchase Order Number'] == number][['Item Name', 'Item Description']]\n",
    "\n",
    "item_name = item_info['Item Name'].values[0]\n",
    "item_description = item_info['Item Description'].values[0]\n",
    "print(\"Item Name:\", item_name)\n",
    "print(\"Item Description:\", item_description)"
   ]
  },
  {
   "cell_type": "code",
   "execution_count": 9,
   "metadata": {},
   "outputs": [
    {
     "data": {
      "text/plain": [
       "('PC Desktop', 'HP Prodesk 600')"
      ]
     },
     "execution_count": 9,
     "metadata": {},
     "output_type": "execute_result"
    }
   ],
   "source": [
    "number = '3176273'\n",
    "name = df.loc[df['Purchase Order Number'] == number, 'Item Name'].values[0]\n",
    "description = df.loc[df['Purchase Order Number'] == number, 'Item Description'].values[0]\n",
    "name, description"
   ]
  },
  {
   "cell_type": "code",
   "execution_count": 10,
   "metadata": {},
   "outputs": [
    {
     "data": {
      "text/plain": [
       "9508"
      ]
     },
     "execution_count": 10,
     "metadata": {},
     "output_type": "execute_result"
    }
   ],
   "source": [
    "year2013 = (df['Fiscal Year'] == '2013-2014').sum()\n",
    "year2013"
   ]
  },
  {
   "cell_type": "code",
   "execution_count": 11,
   "metadata": {},
   "outputs": [
    {
     "data": {
      "text/plain": [
       "Department Name\n",
       "Corrections and Rehabilitation, Department of    10891\n",
       "Correctional Health Care Services                 6593\n",
       "Water Resources, Department of                    4582\n",
       "Forestry and Fire Protection, Department of       4526\n",
       "State Hospitals, Department of                    4281\n",
       "Name: count, dtype: int64"
      ]
     },
     "execution_count": 11,
     "metadata": {},
     "output_type": "execute_result"
    }
   ],
   "source": [
    "most_common_values = df['Department Name'].value_counts().nlargest(5)\n",
    "most_common_values"
   ]
  },
  {
   "cell_type": "code",
   "execution_count": 15,
   "metadata": {},
   "outputs": [
    {
     "data": {
      "text/plain": [
       "Department Name\n",
       "Health Care Services, Department of    2.186685e+10\n",
       "Public Health, Department of           2.748240e+09\n",
       "Social Services, Department of         1.291192e+09\n",
       "Name: Total Price, dtype: float64"
      ]
     },
     "execution_count": 15,
     "metadata": {},
     "output_type": "execute_result"
    }
   ],
   "source": [
    "dep_spend = df.groupby('Department Name')['Total Price'].sum().nlargest(3)\n",
    "dep_spend"
   ]
  },
  {
   "cell_type": "code",
   "execution_count": 17,
   "metadata": {},
   "outputs": [
    {
     "data": {
      "text/html": [
       "<div>\n",
       "<style scoped>\n",
       "    .dataframe tbody tr th:only-of-type {\n",
       "        vertical-align: middle;\n",
       "    }\n",
       "\n",
       "    .dataframe tbody tr th {\n",
       "        vertical-align: top;\n",
       "    }\n",
       "\n",
       "    .dataframe thead th {\n",
       "        text-align: right;\n",
       "    }\n",
       "</style>\n",
       "<table border=\"1\" class=\"dataframe\">\n",
       "  <thead>\n",
       "    <tr style=\"text-align: right;\">\n",
       "      <th></th>\n",
       "      <th>Creation Date</th>\n",
       "      <th>Purchase Date</th>\n",
       "      <th>Fiscal Year</th>\n",
       "      <th>LPA Number</th>\n",
       "      <th>Purchase Order Number</th>\n",
       "      <th>Requisition Number</th>\n",
       "      <th>Acquisition Type</th>\n",
       "      <th>Acquisition Method</th>\n",
       "      <th>Department Name</th>\n",
       "      <th>Supplier Code</th>\n",
       "      <th>...</th>\n",
       "      <th>Classification Codes</th>\n",
       "      <th>Normalized UNSPSC</th>\n",
       "      <th>Commodity Title</th>\n",
       "      <th>Class</th>\n",
       "      <th>Class Title</th>\n",
       "      <th>Family</th>\n",
       "      <th>Family Title</th>\n",
       "      <th>Segment</th>\n",
       "      <th>Segment Title</th>\n",
       "      <th>Location</th>\n",
       "    </tr>\n",
       "  </thead>\n",
       "  <tbody>\n",
       "    <tr>\n",
       "      <th>6</th>\n",
       "      <td>11/30/2012</td>\n",
       "      <td>06/15/2012</td>\n",
       "      <td>2012-2013</td>\n",
       "      <td>NaN</td>\n",
       "      <td>11OAL07</td>\n",
       "      <td>NaN</td>\n",
       "      <td>NON-IT Goods</td>\n",
       "      <td>NCB</td>\n",
       "      <td>Administrative Law, Office of</td>\n",
       "      <td>1001493.0</td>\n",
       "      <td>...</td>\n",
       "      <td>55101524</td>\n",
       "      <td>55101524.0</td>\n",
       "      <td>Reference books</td>\n",
       "      <td>55101500.0</td>\n",
       "      <td>Printed publications</td>\n",
       "      <td>55100000.0</td>\n",
       "      <td>Printed media</td>\n",
       "      <td>55000000.0</td>\n",
       "      <td>Published Products</td>\n",
       "      <td>95833\\n(38.615723, -121.50562)</td>\n",
       "    </tr>\n",
       "    <tr>\n",
       "      <th>519</th>\n",
       "      <td>11/30/2012</td>\n",
       "      <td>06/15/2012</td>\n",
       "      <td>2012-2013</td>\n",
       "      <td>NaN</td>\n",
       "      <td>11OAL09</td>\n",
       "      <td>NaN</td>\n",
       "      <td>NON-IT Goods</td>\n",
       "      <td>NCB</td>\n",
       "      <td>Administrative Law, Office of</td>\n",
       "      <td>1657720.0</td>\n",
       "      <td>...</td>\n",
       "      <td>55101524</td>\n",
       "      <td>55101524.0</td>\n",
       "      <td>Reference books</td>\n",
       "      <td>55101500.0</td>\n",
       "      <td>Printed publications</td>\n",
       "      <td>55100000.0</td>\n",
       "      <td>Printed media</td>\n",
       "      <td>55000000.0</td>\n",
       "      <td>Published Products</td>\n",
       "      <td>55123\\n(44.807169, -93.136157)</td>\n",
       "    </tr>\n",
       "    <tr>\n",
       "      <th>20018</th>\n",
       "      <td>11/30/2012</td>\n",
       "      <td>06/15/2012</td>\n",
       "      <td>2012-2013</td>\n",
       "      <td>NaN</td>\n",
       "      <td>11OAL10</td>\n",
       "      <td>NaN</td>\n",
       "      <td>NON-IT Goods</td>\n",
       "      <td>NCB</td>\n",
       "      <td>Administrative Law, Office of</td>\n",
       "      <td>1657720.0</td>\n",
       "      <td>...</td>\n",
       "      <td>55101524</td>\n",
       "      <td>55101524.0</td>\n",
       "      <td>Reference books</td>\n",
       "      <td>55101500.0</td>\n",
       "      <td>Printed publications</td>\n",
       "      <td>55100000.0</td>\n",
       "      <td>Printed media</td>\n",
       "      <td>55000000.0</td>\n",
       "      <td>Published Products</td>\n",
       "      <td>55123\\n(44.807169, -93.136157)</td>\n",
       "    </tr>\n",
       "    <tr>\n",
       "      <th>31381</th>\n",
       "      <td>02/21/2013</td>\n",
       "      <td>03/20/2013</td>\n",
       "      <td>2012-2013</td>\n",
       "      <td>NaN</td>\n",
       "      <td>11-12201</td>\n",
       "      <td>NaN</td>\n",
       "      <td>NON-IT Services</td>\n",
       "      <td>Informal Competitive</td>\n",
       "      <td>African American Museum, California</td>\n",
       "      <td>7341.0</td>\n",
       "      <td>...</td>\n",
       "      <td>82101801</td>\n",
       "      <td>82101801.0</td>\n",
       "      <td>Advertising campaign services</td>\n",
       "      <td>82101800.0</td>\n",
       "      <td>Advertising agency services</td>\n",
       "      <td>82100000.0</td>\n",
       "      <td>Advertising</td>\n",
       "      <td>82000000.0</td>\n",
       "      <td>Editorial and Design and Graphic and Fine Art ...</td>\n",
       "      <td>90017\\n(34.052895, -118.2642)</td>\n",
       "    </tr>\n",
       "    <tr>\n",
       "      <th>27820</th>\n",
       "      <td>01/03/2013</td>\n",
       "      <td>02/14/2011</td>\n",
       "      <td>2012-2013</td>\n",
       "      <td>NaN</td>\n",
       "      <td>11-12175</td>\n",
       "      <td>NaN</td>\n",
       "      <td>NON-IT Services</td>\n",
       "      <td>Informal Competitive</td>\n",
       "      <td>African American Museum, California</td>\n",
       "      <td>1749414.0</td>\n",
       "      <td>...</td>\n",
       "      <td>78141501</td>\n",
       "      <td>78141501.0</td>\n",
       "      <td>Freight forwarders services</td>\n",
       "      <td>78141500.0</td>\n",
       "      <td>Transport arranging services</td>\n",
       "      <td>78140000.0</td>\n",
       "      <td>Transport services</td>\n",
       "      <td>78000000.0</td>\n",
       "      <td>Transportation and Storage and Mail Services</td>\n",
       "      <td>NaN</td>\n",
       "    </tr>\n",
       "    <tr>\n",
       "      <th>...</th>\n",
       "      <td>...</td>\n",
       "      <td>...</td>\n",
       "      <td>...</td>\n",
       "      <td>...</td>\n",
       "      <td>...</td>\n",
       "      <td>...</td>\n",
       "      <td>...</td>\n",
       "      <td>...</td>\n",
       "      <td>...</td>\n",
       "      <td>...</td>\n",
       "      <td>...</td>\n",
       "      <td>...</td>\n",
       "      <td>...</td>\n",
       "      <td>...</td>\n",
       "      <td>...</td>\n",
       "      <td>...</td>\n",
       "      <td>...</td>\n",
       "      <td>...</td>\n",
       "      <td>...</td>\n",
       "      <td>...</td>\n",
       "      <td>...</td>\n",
       "    </tr>\n",
       "    <tr>\n",
       "      <th>49067</th>\n",
       "      <td>06/13/2013</td>\n",
       "      <td>06/12/2013</td>\n",
       "      <td>2012-2013</td>\n",
       "      <td>NaN</td>\n",
       "      <td>4500199013</td>\n",
       "      <td>NaN</td>\n",
       "      <td>IT Goods</td>\n",
       "      <td>Informal Competitive</td>\n",
       "      <td>Water Resources, Department of</td>\n",
       "      <td>1016373.0</td>\n",
       "      <td>...</td>\n",
       "      <td>43232605</td>\n",
       "      <td>43232605.0</td>\n",
       "      <td>Analytical or scientific software</td>\n",
       "      <td>43232600.0</td>\n",
       "      <td>Industry specific software</td>\n",
       "      <td>43230000.0</td>\n",
       "      <td>Software</td>\n",
       "      <td>43000000.0</td>\n",
       "      <td>Information Technology Broadcasting and Teleco...</td>\n",
       "      <td>1760\\n</td>\n",
       "    </tr>\n",
       "    <tr>\n",
       "      <th>24826</th>\n",
       "      <td>12/17/2012</td>\n",
       "      <td>12/15/2012</td>\n",
       "      <td>2012-2013</td>\n",
       "      <td>NaN</td>\n",
       "      <td>4500192615</td>\n",
       "      <td>NaN</td>\n",
       "      <td>NON-IT Goods</td>\n",
       "      <td>Formal Competitive</td>\n",
       "      <td>Water Resources, Department of</td>\n",
       "      <td>16299.0</td>\n",
       "      <td>...</td>\n",
       "      <td>27131603\\n40141605</td>\n",
       "      <td>27131603.0</td>\n",
       "      <td>Air regulators</td>\n",
       "      <td>27131600.0</td>\n",
       "      <td>Air fittings and connectors</td>\n",
       "      <td>27130000.0</td>\n",
       "      <td>Pneumatic machinery and equipment</td>\n",
       "      <td>27000000.0</td>\n",
       "      <td>Tools and General Machinery</td>\n",
       "      <td>93390\\n(35.373405, -119.018911)</td>\n",
       "    </tr>\n",
       "    <tr>\n",
       "      <th>49068</th>\n",
       "      <td>06/13/2013</td>\n",
       "      <td>06/12/2013</td>\n",
       "      <td>2012-2013</td>\n",
       "      <td>NaN</td>\n",
       "      <td>4500199013</td>\n",
       "      <td>NaN</td>\n",
       "      <td>IT Goods</td>\n",
       "      <td>Informal Competitive</td>\n",
       "      <td>Water Resources, Department of</td>\n",
       "      <td>1016373.0</td>\n",
       "      <td>...</td>\n",
       "      <td>43232605</td>\n",
       "      <td>43232605.0</td>\n",
       "      <td>Analytical or scientific software</td>\n",
       "      <td>43232600.0</td>\n",
       "      <td>Industry specific software</td>\n",
       "      <td>43230000.0</td>\n",
       "      <td>Software</td>\n",
       "      <td>43000000.0</td>\n",
       "      <td>Information Technology Broadcasting and Teleco...</td>\n",
       "      <td>1760\\n</td>\n",
       "    </tr>\n",
       "    <tr>\n",
       "      <th>49059</th>\n",
       "      <td>06/13/2013</td>\n",
       "      <td>06/12/2013</td>\n",
       "      <td>2012-2013</td>\n",
       "      <td>NaN</td>\n",
       "      <td>4500199013</td>\n",
       "      <td>NaN</td>\n",
       "      <td>IT Goods</td>\n",
       "      <td>Informal Competitive</td>\n",
       "      <td>Water Resources, Department of</td>\n",
       "      <td>1016373.0</td>\n",
       "      <td>...</td>\n",
       "      <td>43232605</td>\n",
       "      <td>43232605.0</td>\n",
       "      <td>Analytical or scientific software</td>\n",
       "      <td>43232600.0</td>\n",
       "      <td>Industry specific software</td>\n",
       "      <td>43230000.0</td>\n",
       "      <td>Software</td>\n",
       "      <td>43000000.0</td>\n",
       "      <td>Information Technology Broadcasting and Teleco...</td>\n",
       "      <td>1760\\n</td>\n",
       "    </tr>\n",
       "    <tr>\n",
       "      <th>44469</th>\n",
       "      <td>05/07/2013</td>\n",
       "      <td>05/01/2013</td>\n",
       "      <td>2012-2013</td>\n",
       "      <td>NaN</td>\n",
       "      <td>4500197248</td>\n",
       "      <td>NaN</td>\n",
       "      <td>NON-IT Goods</td>\n",
       "      <td>State Programs</td>\n",
       "      <td>Water Resources, Department of</td>\n",
       "      <td>1743406.0</td>\n",
       "      <td>...</td>\n",
       "      <td>78180301</td>\n",
       "      <td>78180301.0</td>\n",
       "      <td>Fuelling of vehicles</td>\n",
       "      <td>78180300.0</td>\n",
       "      <td>Transport fuelling and vehicle storage and sup...</td>\n",
       "      <td>78180000.0</td>\n",
       "      <td>Transportation repair or maintenance services</td>\n",
       "      <td>78000000.0</td>\n",
       "      <td>Transportation and Storage and Mail Services</td>\n",
       "      <td>NaN</td>\n",
       "    </tr>\n",
       "  </tbody>\n",
       "</table>\n",
       "<p>62657 rows × 29 columns</p>\n",
       "</div>"
      ],
      "text/plain": [
       "      Creation Date Purchase Date Fiscal Year LPA Number  \\\n",
       "6        11/30/2012    06/15/2012   2012-2013        NaN   \n",
       "519      11/30/2012    06/15/2012   2012-2013        NaN   \n",
       "20018    11/30/2012    06/15/2012   2012-2013        NaN   \n",
       "31381    02/21/2013    03/20/2013   2012-2013        NaN   \n",
       "27820    01/03/2013    02/14/2011   2012-2013        NaN   \n",
       "...             ...           ...         ...        ...   \n",
       "49067    06/13/2013    06/12/2013   2012-2013        NaN   \n",
       "24826    12/17/2012    12/15/2012   2012-2013        NaN   \n",
       "49068    06/13/2013    06/12/2013   2012-2013        NaN   \n",
       "49059    06/13/2013    06/12/2013   2012-2013        NaN   \n",
       "44469    05/07/2013    05/01/2013   2012-2013        NaN   \n",
       "\n",
       "      Purchase Order Number  Requisition Number Acquisition Type  \\\n",
       "6                   11OAL07                 NaN     NON-IT Goods   \n",
       "519                 11OAL09                 NaN     NON-IT Goods   \n",
       "20018               11OAL10                 NaN     NON-IT Goods   \n",
       "31381              11-12201                 NaN  NON-IT Services   \n",
       "27820              11-12175                 NaN  NON-IT Services   \n",
       "...                     ...                 ...              ...   \n",
       "49067            4500199013                 NaN         IT Goods   \n",
       "24826            4500192615                 NaN     NON-IT Goods   \n",
       "49068            4500199013                 NaN         IT Goods   \n",
       "49059            4500199013                 NaN         IT Goods   \n",
       "44469            4500197248                 NaN     NON-IT Goods   \n",
       "\n",
       "         Acquisition Method                      Department Name  \\\n",
       "6                       NCB        Administrative Law, Office of   \n",
       "519                     NCB        Administrative Law, Office of   \n",
       "20018                   NCB        Administrative Law, Office of   \n",
       "31381  Informal Competitive  African American Museum, California   \n",
       "27820  Informal Competitive  African American Museum, California   \n",
       "...                     ...                                  ...   \n",
       "49067  Informal Competitive       Water Resources, Department of   \n",
       "24826    Formal Competitive       Water Resources, Department of   \n",
       "49068  Informal Competitive       Water Resources, Department of   \n",
       "49059  Informal Competitive       Water Resources, Department of   \n",
       "44469        State Programs       Water Resources, Department of   \n",
       "\n",
       "       Supplier Code  ... Classification Codes Normalized UNSPSC  \\\n",
       "6          1001493.0  ...             55101524        55101524.0   \n",
       "519        1657720.0  ...             55101524        55101524.0   \n",
       "20018      1657720.0  ...             55101524        55101524.0   \n",
       "31381         7341.0  ...             82101801        82101801.0   \n",
       "27820      1749414.0  ...             78141501        78141501.0   \n",
       "...              ...  ...                  ...               ...   \n",
       "49067      1016373.0  ...             43232605        43232605.0   \n",
       "24826        16299.0  ...   27131603\\n40141605        27131603.0   \n",
       "49068      1016373.0  ...             43232605        43232605.0   \n",
       "49059      1016373.0  ...             43232605        43232605.0   \n",
       "44469      1743406.0  ...             78180301        78180301.0   \n",
       "\n",
       "                         Commodity Title       Class  \\\n",
       "6                        Reference books  55101500.0   \n",
       "519                      Reference books  55101500.0   \n",
       "20018                    Reference books  55101500.0   \n",
       "31381      Advertising campaign services  82101800.0   \n",
       "27820        Freight forwarders services  78141500.0   \n",
       "...                                  ...         ...   \n",
       "49067  Analytical or scientific software  43232600.0   \n",
       "24826                     Air regulators  27131600.0   \n",
       "49068  Analytical or scientific software  43232600.0   \n",
       "49059  Analytical or scientific software  43232600.0   \n",
       "44469               Fuelling of vehicles  78180300.0   \n",
       "\n",
       "                                             Class Title      Family  \\\n",
       "6                                   Printed publications  55100000.0   \n",
       "519                                 Printed publications  55100000.0   \n",
       "20018                               Printed publications  55100000.0   \n",
       "31381                        Advertising agency services  82100000.0   \n",
       "27820                       Transport arranging services  78140000.0   \n",
       "...                                                  ...         ...   \n",
       "49067                         Industry specific software  43230000.0   \n",
       "24826                        Air fittings and connectors  27130000.0   \n",
       "49068                         Industry specific software  43230000.0   \n",
       "49059                         Industry specific software  43230000.0   \n",
       "44469  Transport fuelling and vehicle storage and sup...  78180000.0   \n",
       "\n",
       "                                        Family Title     Segment  \\\n",
       "6                                      Printed media  55000000.0   \n",
       "519                                    Printed media  55000000.0   \n",
       "20018                                  Printed media  55000000.0   \n",
       "31381                                    Advertising  82000000.0   \n",
       "27820                             Transport services  78000000.0   \n",
       "...                                              ...         ...   \n",
       "49067                                       Software  43000000.0   \n",
       "24826              Pneumatic machinery and equipment  27000000.0   \n",
       "49068                                       Software  43000000.0   \n",
       "49059                                       Software  43000000.0   \n",
       "44469  Transportation repair or maintenance services  78000000.0   \n",
       "\n",
       "                                           Segment Title  \\\n",
       "6                                     Published Products   \n",
       "519                                   Published Products   \n",
       "20018                                 Published Products   \n",
       "31381  Editorial and Design and Graphic and Fine Art ...   \n",
       "27820       Transportation and Storage and Mail Services   \n",
       "...                                                  ...   \n",
       "49067  Information Technology Broadcasting and Teleco...   \n",
       "24826                        Tools and General Machinery   \n",
       "49068  Information Technology Broadcasting and Teleco...   \n",
       "49059  Information Technology Broadcasting and Teleco...   \n",
       "44469       Transportation and Storage and Mail Services   \n",
       "\n",
       "                              Location  \n",
       "6       95833\\n(38.615723, -121.50562)  \n",
       "519     55123\\n(44.807169, -93.136157)  \n",
       "20018   55123\\n(44.807169, -93.136157)  \n",
       "31381    90017\\n(34.052895, -118.2642)  \n",
       "27820                              NaN  \n",
       "...                                ...  \n",
       "49067                           1760\\n  \n",
       "24826  93390\\n(35.373405, -119.018911)  \n",
       "49068                           1760\\n  \n",
       "49059                           1760\\n  \n",
       "44469                              NaN  \n",
       "\n",
       "[62657 rows x 29 columns]"
      ]
     },
     "execution_count": 17,
     "metadata": {},
     "output_type": "execute_result"
    }
   ],
   "source": [
    "df = df.sort_values('Department Name')\n",
    "df"
   ]
  },
  {
   "cell_type": "code",
   "execution_count": 27,
   "metadata": {},
   "outputs": [
    {
     "data": {
      "text/plain": [
       "698"
      ]
     },
     "execution_count": 27,
     "metadata": {},
     "output_type": "execute_result"
    }
   ],
   "source": [
    "amount1 = df[(df['Acquisition Type'] == 'IT Goods') & (df['Total Price'] > 50000)].shape[0]\n",
    "amount1"
   ]
  },
  {
   "cell_type": "code",
   "execution_count": 28,
   "metadata": {},
   "outputs": [
    {
     "data": {
      "text/plain": [
       "9558"
      ]
     },
     "execution_count": 28,
     "metadata": {},
     "output_type": "execute_result"
    }
   ],
   "source": [
    "it_categories = ['IT Goods', 'IT Services', 'IT Telecommunications']\n",
    "amount2 = df[df['Acquisition Type'].isin(it_categories)].shape[0]\n",
    "amount2"
   ]
  },
  {
   "cell_type": "code",
   "execution_count": 37,
   "metadata": {},
   "outputs": [],
   "source": [
    "new_df = df[df['Total Price'] > 0]\n",
    "grouped = new_df.groupby('Acquisition Type')['Total Price'].agg(['sum', 'mean'])"
   ]
  },
  {
   "cell_type": "code",
   "execution_count": 38,
   "metadata": {},
   "outputs": [
    {
     "data": {
      "text/html": [
       "<div>\n",
       "<style scoped>\n",
       "    .dataframe tbody tr th:only-of-type {\n",
       "        vertical-align: middle;\n",
       "    }\n",
       "\n",
       "    .dataframe tbody tr th {\n",
       "        vertical-align: top;\n",
       "    }\n",
       "\n",
       "    .dataframe thead th {\n",
       "        text-align: right;\n",
       "    }\n",
       "</style>\n",
       "<table border=\"1\" class=\"dataframe\">\n",
       "  <thead>\n",
       "    <tr style=\"text-align: right;\">\n",
       "      <th></th>\n",
       "      <th>sum</th>\n",
       "      <th>mean</th>\n",
       "    </tr>\n",
       "    <tr>\n",
       "      <th>Acquisition Type</th>\n",
       "      <th></th>\n",
       "      <th></th>\n",
       "    </tr>\n",
       "  </thead>\n",
       "  <tbody>\n",
       "    <tr>\n",
       "      <th>NON-IT Services</th>\n",
       "      <td>3.056420e+10</td>\n",
       "      <td>2.481062e+06</td>\n",
       "    </tr>\n",
       "    <tr>\n",
       "      <th>IT Services</th>\n",
       "      <td>1.156984e+09</td>\n",
       "      <td>6.829892e+05</td>\n",
       "    </tr>\n",
       "  </tbody>\n",
       "</table>\n",
       "</div>"
      ],
      "text/plain": [
       "                           sum          mean\n",
       "Acquisition Type                            \n",
       "NON-IT Services   3.056420e+10  2.481062e+06\n",
       "IT Services       1.156984e+09  6.829892e+05"
      ]
     },
     "execution_count": 38,
     "metadata": {},
     "output_type": "execute_result"
    }
   ],
   "source": [
    "\n",
    "largest_sums = grouped.nlargest(2, 'sum')\n",
    "largest_sums"
   ]
  },
  {
   "cell_type": "code",
   "execution_count": 39,
   "metadata": {},
   "outputs": [
    {
     "data": {
      "text/html": [
       "<div>\n",
       "<style scoped>\n",
       "    .dataframe tbody tr th:only-of-type {\n",
       "        vertical-align: middle;\n",
       "    }\n",
       "\n",
       "    .dataframe tbody tr th {\n",
       "        vertical-align: top;\n",
       "    }\n",
       "\n",
       "    .dataframe thead th {\n",
       "        text-align: right;\n",
       "    }\n",
       "</style>\n",
       "<table border=\"1\" class=\"dataframe\">\n",
       "  <thead>\n",
       "    <tr style=\"text-align: right;\">\n",
       "      <th></th>\n",
       "      <th>sum</th>\n",
       "      <th>mean</th>\n",
       "    </tr>\n",
       "    <tr>\n",
       "      <th>Acquisition Type</th>\n",
       "      <th></th>\n",
       "      <th></th>\n",
       "    </tr>\n",
       "  </thead>\n",
       "  <tbody>\n",
       "    <tr>\n",
       "      <th>NON-IT Services</th>\n",
       "      <td>3.056420e+10</td>\n",
       "      <td>2.481062e+06</td>\n",
       "    </tr>\n",
       "    <tr>\n",
       "      <th>IT Services</th>\n",
       "      <td>1.156984e+09</td>\n",
       "      <td>6.829892e+05</td>\n",
       "    </tr>\n",
       "  </tbody>\n",
       "</table>\n",
       "</div>"
      ],
      "text/plain": [
       "                           sum          mean\n",
       "Acquisition Type                            \n",
       "NON-IT Services   3.056420e+10  2.481062e+06\n",
       "IT Services       1.156984e+09  6.829892e+05"
      ]
     },
     "execution_count": 39,
     "metadata": {},
     "output_type": "execute_result"
    }
   ],
   "source": [
    "largest_means = grouped.nlargest(2, 'mean')\n",
    "largest_means"
   ]
  }
 ],
 "metadata": {
  "kernelspec": {
   "display_name": "Python 3",
   "language": "python",
   "name": "python3"
  },
  "language_info": {
   "codemirror_mode": {
    "name": "ipython",
    "version": 3
   },
   "file_extension": ".py",
   "mimetype": "text/x-python",
   "name": "python",
   "nbconvert_exporter": "python",
   "pygments_lexer": "ipython3",
   "version": "3.9.13"
  }
 },
 "nbformat": 4,
 "nbformat_minor": 2
}
