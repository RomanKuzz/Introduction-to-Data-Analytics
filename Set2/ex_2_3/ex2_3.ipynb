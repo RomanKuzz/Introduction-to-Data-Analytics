{
 "cells": [
  {
   "cell_type": "code",
   "execution_count": 5,
   "metadata": {},
   "outputs": [],
   "source": [
    "import pandas as pd"
   ]
  },
  {
   "cell_type": "code",
   "execution_count": 6,
   "metadata": {},
   "outputs": [],
   "source": [
    "%load_ext numpy_html"
   ]
  },
  {
   "cell_type": "code",
   "execution_count": 7,
   "metadata": {},
   "outputs": [
    {
     "data": {
      "text/html": [
       "<style>\n",
       "table {margin-top: 16pt;}\n",
       "td {font-family: Arial, Helvetica, sans-serif !important; font-weight: 600; white-space: normal !important;}\n",
       "tr:nth-child(even) {background: #b0d9eb !important; color: black}\n",
       "tr:nth-child(odd) {background: #8fb1bf !important; color: black}\n",
       "</style>\n"
      ],
      "text/plain": [
       "<IPython.core.display.HTML object>"
      ]
     },
     "metadata": {},
     "output_type": "display_data"
    }
   ],
   "source": [
    "%%html\n",
    "<style>\n",
    "table {margin-top: 16pt;}\n",
    "td {font-family: Arial, Helvetica, sans-serif !important; font-weight: 600; white-space: normal !important;}\n",
    "tr:nth-child(even) {background: #b0d9eb !important; color: black}\n",
    "tr:nth-child(odd) {background: #8fb1bf !important; color: black}\n",
    "</style>"
   ]
  },
  {
   "cell_type": "code",
   "execution_count": 8,
   "metadata": {},
   "outputs": [
    {
     "data": {
      "text/html": [
       "<div>\n",
       "<style scoped>\n",
       "    .dataframe tbody tr th:only-of-type {\n",
       "        vertical-align: middle;\n",
       "    }\n",
       "\n",
       "    .dataframe tbody tr th {\n",
       "        vertical-align: top;\n",
       "    }\n",
       "\n",
       "    .dataframe thead th {\n",
       "        text-align: right;\n",
       "    }\n",
       "</style>\n",
       "<table border=\"1\" class=\"dataframe\">\n",
       "  <thead>\n",
       "    <tr style=\"text-align: right;\">\n",
       "      <th></th>\n",
       "      <th>Company Name</th>\n",
       "      <th>Job Title</th>\n",
       "      <th>Role</th>\n",
       "      <th>Salaries Reported</th>\n",
       "      <th>Location</th>\n",
       "      <th>Salary</th>\n",
       "    </tr>\n",
       "  </thead>\n",
       "  <tbody>\n",
       "    <tr>\n",
       "      <th>0</th>\n",
       "      <td>Axis Bank</td>\n",
       "      <td>Data Scientist</td>\n",
       "      <td>Specialist</td>\n",
       "      <td>3</td>\n",
       "      <td>Bangalore</td>\n",
       "      <td>₹11,71,687/yr</td>\n",
       "    </tr>\n",
       "    <tr>\n",
       "      <th>1</th>\n",
       "      <td>Globex Digital Solutions</td>\n",
       "      <td>Machine Learning Engineer</td>\n",
       "      <td>Manager</td>\n",
       "      <td>1</td>\n",
       "      <td>Hyderabad</td>\n",
       "      <td>₹32,57,305/yr</td>\n",
       "    </tr>\n",
       "    <tr>\n",
       "      <th>2</th>\n",
       "      <td>Tempworks Services</td>\n",
       "      <td>Data Scientist</td>\n",
       "      <td>Manager</td>\n",
       "      <td>1</td>\n",
       "      <td>Bangalore</td>\n",
       "      <td>₹58,11,205/yr</td>\n",
       "    </tr>\n",
       "    <tr>\n",
       "      <th>3</th>\n",
       "      <td>BlueOptima</td>\n",
       "      <td>Machine Learning Engineer</td>\n",
       "      <td>Specialist</td>\n",
       "      <td>2</td>\n",
       "      <td>Bangalore</td>\n",
       "      <td>₹11,80,965/yr</td>\n",
       "    </tr>\n",
       "    <tr>\n",
       "      <th>4</th>\n",
       "      <td>Dell Technologies</td>\n",
       "      <td>Data Analyst</td>\n",
       "      <td>Specialist</td>\n",
       "      <td>5</td>\n",
       "      <td>New Delhi</td>\n",
       "      <td>₹6,02,930/yr</td>\n",
       "    </tr>\n",
       "  </tbody>\n",
       "</table>\n",
       "</div>"
      ],
      "text/plain": [
       "               Company Name                  Job Title        Role  \\\n",
       "0                 Axis Bank             Data Scientist  Specialist   \n",
       "1  Globex Digital Solutions  Machine Learning Engineer     Manager   \n",
       "2        Tempworks Services             Data Scientist     Manager   \n",
       "3                BlueOptima  Machine Learning Engineer  Specialist   \n",
       "4         Dell Technologies               Data Analyst  Specialist   \n",
       "\n",
       "   Salaries Reported   Location         Salary  \n",
       "0                  3  Bangalore  ₹11,71,687/yr  \n",
       "1                  1  Hyderabad  ₹32,57,305/yr  \n",
       "2                  1  Bangalore  ₹58,11,205/yr  \n",
       "3                  2  Bangalore  ₹11,80,965/yr  \n",
       "4                  5  New Delhi   ₹6,02,930/yr  "
      ]
     },
     "execution_count": 8,
     "metadata": {},
     "output_type": "execute_result"
    }
   ],
   "source": [
    "# Read the Excel file into a DataFrame\n",
    "df = pd.read_csv(\"data_salaries_india.csv\")\n",
    "df.head()"
   ]
  },
  {
   "cell_type": "code",
   "execution_count": 9,
   "metadata": {},
   "outputs": [
    {
     "data": {
      "text/html": [
       "<div>\n",
       "<style scoped>\n",
       "    .dataframe tbody tr th:only-of-type {\n",
       "        vertical-align: middle;\n",
       "    }\n",
       "\n",
       "    .dataframe tbody tr th {\n",
       "        vertical-align: top;\n",
       "    }\n",
       "\n",
       "    .dataframe thead th {\n",
       "        text-align: right;\n",
       "    }\n",
       "</style>\n",
       "<table border=\"1\" class=\"dataframe\">\n",
       "  <thead>\n",
       "    <tr style=\"text-align: right;\">\n",
       "      <th></th>\n",
       "      <th>Company Name</th>\n",
       "      <th>Job Title</th>\n",
       "      <th>Role</th>\n",
       "      <th>Salaries Reported</th>\n",
       "      <th>Location</th>\n",
       "      <th>Salary</th>\n",
       "    </tr>\n",
       "  </thead>\n",
       "  <tbody>\n",
       "    <tr>\n",
       "      <th>0</th>\n",
       "      <td>Axis Bank</td>\n",
       "      <td>Data Scientist</td>\n",
       "      <td>Specialist</td>\n",
       "      <td>3</td>\n",
       "      <td>Bangalore</td>\n",
       "      <td>1171687</td>\n",
       "    </tr>\n",
       "    <tr>\n",
       "      <th>1</th>\n",
       "      <td>Globex Digital Solutions</td>\n",
       "      <td>Machine Learning Engineer</td>\n",
       "      <td>Manager</td>\n",
       "      <td>1</td>\n",
       "      <td>Hyderabad</td>\n",
       "      <td>3257305</td>\n",
       "    </tr>\n",
       "    <tr>\n",
       "      <th>2</th>\n",
       "      <td>Tempworks Services</td>\n",
       "      <td>Data Scientist</td>\n",
       "      <td>Manager</td>\n",
       "      <td>1</td>\n",
       "      <td>Bangalore</td>\n",
       "      <td>5811205</td>\n",
       "    </tr>\n",
       "    <tr>\n",
       "      <th>3</th>\n",
       "      <td>BlueOptima</td>\n",
       "      <td>Machine Learning Engineer</td>\n",
       "      <td>Specialist</td>\n",
       "      <td>2</td>\n",
       "      <td>Bangalore</td>\n",
       "      <td>1180965</td>\n",
       "    </tr>\n",
       "    <tr>\n",
       "      <th>4</th>\n",
       "      <td>Dell Technologies</td>\n",
       "      <td>Data Analyst</td>\n",
       "      <td>Specialist</td>\n",
       "      <td>5</td>\n",
       "      <td>New Delhi</td>\n",
       "      <td>602930</td>\n",
       "    </tr>\n",
       "  </tbody>\n",
       "</table>\n",
       "</div>"
      ],
      "text/plain": [
       "               Company Name                  Job Title        Role  \\\n",
       "0                 Axis Bank             Data Scientist  Specialist   \n",
       "1  Globex Digital Solutions  Machine Learning Engineer     Manager   \n",
       "2        Tempworks Services             Data Scientist     Manager   \n",
       "3                BlueOptima  Machine Learning Engineer  Specialist   \n",
       "4         Dell Technologies               Data Analyst  Specialist   \n",
       "\n",
       "   Salaries Reported   Location   Salary  \n",
       "0                  3  Bangalore  1171687  \n",
       "1                  1  Hyderabad  3257305  \n",
       "2                  1  Bangalore  5811205  \n",
       "3                  2  Bangalore  1180965  \n",
       "4                  5  New Delhi   602930  "
      ]
     },
     "execution_count": 9,
     "metadata": {},
     "output_type": "execute_result"
    }
   ],
   "source": [
    "df['Salary'] = df['Salary'].str.replace('₹', '')\n",
    "df['Salary'] = df['Salary'].str.replace('/yr', '')\n",
    "df['Salary'] = df['Salary'].str.replace(',', '')\n",
    "df.head()"
   ]
  },
  {
   "cell_type": "code",
   "execution_count": 10,
   "metadata": {},
   "outputs": [
    {
     "data": {
      "text/html": [
       "<div>\n",
       "<style scoped>\n",
       "    .dataframe tbody tr th:only-of-type {\n",
       "        vertical-align: middle;\n",
       "    }\n",
       "\n",
       "    .dataframe tbody tr th {\n",
       "        vertical-align: top;\n",
       "    }\n",
       "\n",
       "    .dataframe thead th {\n",
       "        text-align: right;\n",
       "    }\n",
       "</style>\n",
       "<table border=\"1\" class=\"dataframe\">\n",
       "  <thead>\n",
       "    <tr style=\"text-align: right;\">\n",
       "      <th></th>\n",
       "      <th>Company Name</th>\n",
       "      <th>Job Title</th>\n",
       "      <th>Role</th>\n",
       "      <th>Salaries Reported</th>\n",
       "      <th>Location</th>\n",
       "      <th>Salary</th>\n",
       "      <th>Monthly Salary</th>\n",
       "      <th>Hourly Salary</th>\n",
       "    </tr>\n",
       "  </thead>\n",
       "  <tbody>\n",
       "    <tr>\n",
       "      <th>0</th>\n",
       "      <td>Axis Bank</td>\n",
       "      <td>Data Scientist</td>\n",
       "      <td>Specialist</td>\n",
       "      <td>3</td>\n",
       "      <td>Bangalore</td>\n",
       "      <td>1171687</td>\n",
       "      <td>97640.583333</td>\n",
       "      <td>563.311058</td>\n",
       "    </tr>\n",
       "    <tr>\n",
       "      <th>1</th>\n",
       "      <td>Globex Digital Solutions</td>\n",
       "      <td>Machine Learning Engineer</td>\n",
       "      <td>Manager</td>\n",
       "      <td>1</td>\n",
       "      <td>Hyderabad</td>\n",
       "      <td>3257305</td>\n",
       "      <td>271442.083333</td>\n",
       "      <td>1566.012019</td>\n",
       "    </tr>\n",
       "    <tr>\n",
       "      <th>2</th>\n",
       "      <td>Tempworks Services</td>\n",
       "      <td>Data Scientist</td>\n",
       "      <td>Manager</td>\n",
       "      <td>1</td>\n",
       "      <td>Bangalore</td>\n",
       "      <td>5811205</td>\n",
       "      <td>484267.083333</td>\n",
       "      <td>2793.848558</td>\n",
       "    </tr>\n",
       "    <tr>\n",
       "      <th>3</th>\n",
       "      <td>BlueOptima</td>\n",
       "      <td>Machine Learning Engineer</td>\n",
       "      <td>Specialist</td>\n",
       "      <td>2</td>\n",
       "      <td>Bangalore</td>\n",
       "      <td>1180965</td>\n",
       "      <td>98413.750000</td>\n",
       "      <td>567.771635</td>\n",
       "    </tr>\n",
       "    <tr>\n",
       "      <th>4</th>\n",
       "      <td>Dell Technologies</td>\n",
       "      <td>Data Analyst</td>\n",
       "      <td>Specialist</td>\n",
       "      <td>5</td>\n",
       "      <td>New Delhi</td>\n",
       "      <td>602930</td>\n",
       "      <td>50244.166667</td>\n",
       "      <td>289.870192</td>\n",
       "    </tr>\n",
       "  </tbody>\n",
       "</table>\n",
       "</div>"
      ],
      "text/plain": [
       "               Company Name                  Job Title        Role  \\\n",
       "0                 Axis Bank             Data Scientist  Specialist   \n",
       "1  Globex Digital Solutions  Machine Learning Engineer     Manager   \n",
       "2        Tempworks Services             Data Scientist     Manager   \n",
       "3                BlueOptima  Machine Learning Engineer  Specialist   \n",
       "4         Dell Technologies               Data Analyst  Specialist   \n",
       "\n",
       "   Salaries Reported   Location   Salary  Monthly Salary  Hourly Salary  \n",
       "0                  3  Bangalore  1171687    97640.583333     563.311058  \n",
       "1                  1  Hyderabad  3257305   271442.083333    1566.012019  \n",
       "2                  1  Bangalore  5811205   484267.083333    2793.848558  \n",
       "3                  2  Bangalore  1180965    98413.750000     567.771635  \n",
       "4                  5  New Delhi   602930    50244.166667     289.870192  "
      ]
     },
     "execution_count": 10,
     "metadata": {},
     "output_type": "execute_result"
    }
   ],
   "source": [
    "df['Salary'] = df['Salary'].astype(int)\n",
    "df['Monthly Salary'] = df['Salary'] / 12\n",
    "df['Hourly Salary'] = df['Salary'] / 2080\n",
    "df.head()"
   ]
  },
  {
   "cell_type": "code",
   "execution_count": 11,
   "metadata": {},
   "outputs": [
    {
     "data": {
      "text/plain": [
       "Job Title\n",
       "Data Scientist               2165\n",
       "Data Analyst                 1167\n",
       "Data Engineer                 948\n",
       "Machine Learning Engineer     683\n",
       "Data Science                   54\n",
       "Name: count, dtype: int64"
      ]
     },
     "execution_count": 11,
     "metadata": {},
     "output_type": "execute_result"
    }
   ],
   "source": [
    "common_job_titles = df['Job Title'].value_counts().head(5)\n",
    "balance_job_titles = df['Job Title'].value_counts(normalize=True)\n",
    "common_job_titles"
   ]
  },
  {
   "cell_type": "code",
   "execution_count": 12,
   "metadata": {},
   "outputs": [
    {
     "data": {
      "text/plain": [
       "Company Name\n",
       "Tata Consultancy Services    51\n",
       "Accenture                    39\n",
       "Amazon                       35\n",
       "Fresher                      31\n",
       "First Student                30\n",
       "Name: count, dtype: int64"
      ]
     },
     "execution_count": 12,
     "metadata": {},
     "output_type": "execute_result"
    }
   ],
   "source": [
    "common_companies = df['Company Name'].value_counts().head(5)\n",
    "balance_companies = df['Company Name'].value_counts(normalize=True)\n",
    "common_companies"
   ]
  },
  {
   "cell_type": "code",
   "execution_count": 13,
   "metadata": {},
   "outputs": [
    {
     "data": {
      "text/plain": [
       "Location\n",
       "Bangalore    1858\n",
       "Pune          966\n",
       "Hyderabad     786\n",
       "New Delhi     781\n",
       "Mumbai        736\n",
       "Name: count, dtype: int64"
      ]
     },
     "execution_count": 13,
     "metadata": {},
     "output_type": "execute_result"
    }
   ],
   "source": [
    "common_locations = df['Location'].value_counts().head(10)\n",
    "balance_locations = df['Location'].value_counts(normalize=True)\n",
    "common_locations"
   ]
  }
 ],
 "metadata": {
  "kernelspec": {
   "display_name": "Python 3",
   "language": "python",
   "name": "python3"
  },
  "language_info": {
   "codemirror_mode": {
    "name": "ipython",
    "version": 3
   },
   "file_extension": ".py",
   "mimetype": "text/x-python",
   "name": "python",
   "nbconvert_exporter": "python",
   "pygments_lexer": "ipython3",
   "version": "3.9.13"
  }
 },
 "nbformat": 4,
 "nbformat_minor": 2
}
