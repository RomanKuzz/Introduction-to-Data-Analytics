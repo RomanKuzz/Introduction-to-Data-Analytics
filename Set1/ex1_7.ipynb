{
 "cells": [
  {
   "cell_type": "code",
   "execution_count": 14,
   "metadata": {},
   "outputs": [],
   "source": [
    "import numpy as np"
   ]
  },
  {
   "cell_type": "code",
   "execution_count": 15,
   "metadata": {},
   "outputs": [
    {
     "name": "stdout",
     "output_type": "stream",
     "text": [
      "The numpy_html extension is already loaded. To reload it, use:\n",
      "  %reload_ext numpy_html\n"
     ]
    }
   ],
   "source": [
    "%load_ext numpy_html"
   ]
  },
  {
   "cell_type": "code",
   "execution_count": 16,
   "metadata": {},
   "outputs": [
    {
     "data": {
      "text/html": [
       "<style>\n",
       "table {margin-top: 16pt;}\n",
       "td {font-family: Arial, Helvetica, sans-serif !important; font-weight: 600; white-space: normal !important;}\n",
       "tr:nth-child(even) {background: #b0d9eb !important; color: black}\n",
       "tr:nth-child(odd) {background: #8fb1bf !important; color: black}\n",
       "</style>\n"
      ],
      "text/plain": [
       "<IPython.core.display.HTML object>"
      ]
     },
     "metadata": {},
     "output_type": "display_data"
    }
   ],
   "source": [
    "%%html\n",
    "<style>\n",
    "table {margin-top: 16pt;}\n",
    "td {font-family: Arial, Helvetica, sans-serif !important; font-weight: 600; white-space: normal !important;}\n",
    "tr:nth-child(even) {background: #b0d9eb !important; color: black}\n",
    "tr:nth-child(odd) {background: #8fb1bf !important; color: black}\n",
    "</style>"
   ]
  },
  {
   "cell_type": "code",
   "execution_count": 17,
   "metadata": {},
   "outputs": [
    {
     "data": {
      "text/html": [
       "<table style='border-style:solid;border-width:1px;'>\n",
       "<tr>\n",
       "<td style=\"font-family:monospace;white-space: pre;\" title=\"(0, 0)\"><center>51</center></td>\n",
       "<td style=\"font-family:monospace;white-space: pre;\" title=\"(0, 1)\"><center>52</center></td>\n",
       "<td style=\"font-family:monospace;white-space: pre;\" title=\"(0, 2)\"><center>53</center></td>\n",
       "<td style=\"font-family:monospace;white-space: pre;\" title=\"(0, 3)\"><center>54</center></td>\n",
       "<td style=\"font-family:monospace;white-space: pre;\" title=\"(0, 4)\"><center>55</center></td>\n",
       "<td style=\"font-family:monospace;white-space: pre;\" title=\"(0, 5)\"><center>56</center></td>\n",
       "<td style=\"font-family:monospace;white-space: pre;\" title=\"(0, 6)\"><center>57</center></td>\n",
       "</tr>\n",
       "<tr>\n",
       "<td style=\"font-family:monospace;white-space: pre;\" title=\"(1, 0)\"><center>58</center></td>\n",
       "<td style=\"font-family:monospace;white-space: pre;\" title=\"(1, 1)\"><center>59</center></td>\n",
       "<td style=\"font-family:monospace;white-space: pre;\" title=\"(1, 2)\"><center>60</center></td>\n",
       "<td style=\"font-family:monospace;white-space: pre;\" title=\"(1, 3)\"><center>61</center></td>\n",
       "<td style=\"font-family:monospace;white-space: pre;\" title=\"(1, 4)\"><center>62</center></td>\n",
       "<td style=\"font-family:monospace;white-space: pre;\" title=\"(1, 5)\"><center>63</center></td>\n",
       "<td style=\"font-family:monospace;white-space: pre;\" title=\"(1, 6)\"><center>64</center></td>\n",
       "</tr>\n",
       "<tr>\n",
       "<td style=\"font-family:monospace;white-space: pre;\" title=\"(2, 0)\"><center>65</center></td>\n",
       "<td style=\"font-family:monospace;white-space: pre;\" title=\"(2, 1)\"><center>66</center></td>\n",
       "<td style=\"font-family:monospace;white-space: pre;\" title=\"(2, 2)\"><center>67</center></td>\n",
       "<td style=\"font-family:monospace;white-space: pre;\" title=\"(2, 3)\"><center>68</center></td>\n",
       "<td style=\"font-family:monospace;white-space: pre;\" title=\"(2, 4)\"><center>69</center></td>\n",
       "<td style=\"font-family:monospace;white-space: pre;\" title=\"(2, 5)\"><center>70</center></td>\n",
       "<td style=\"font-family:monospace;white-space: pre;\" title=\"(2, 6)\"><center>71</center></td>\n",
       "</tr>\n",
       "<tr>\n",
       "<td style=\"font-family:monospace;white-space: pre;\" title=\"(3, 0)\"><center>72</center></td>\n",
       "<td style=\"font-family:monospace;white-space: pre;\" title=\"(3, 1)\"><center>73</center></td>\n",
       "<td style=\"font-family:monospace;white-space: pre;\" title=\"(3, 2)\"><center>74</center></td>\n",
       "<td style=\"font-family:monospace;white-space: pre;\" title=\"(3, 3)\"><center>75</center></td>\n",
       "<td style=\"font-family:monospace;white-space: pre;\" title=\"(3, 4)\"><center>76</center></td>\n",
       "<td style=\"font-family:monospace;white-space: pre;\" title=\"(3, 5)\"><center>77</center></td>\n",
       "<td style=\"font-family:monospace;white-space: pre;\" title=\"(3, 6)\"><center>78</center></td>\n",
       "</tr>\n",
       "<tr>\n",
       "<td style=\"font-family:monospace;white-space: pre;\" title=\"(4, 0)\"><center>79</center></td>\n",
       "<td style=\"font-family:monospace;white-space: pre;\" title=\"(4, 1)\"><center>80</center></td>\n",
       "<td style=\"font-family:monospace;white-space: pre;\" title=\"(4, 2)\"><center>81</center></td>\n",
       "<td style=\"font-family:monospace;white-space: pre;\" title=\"(4, 3)\"><center>82</center></td>\n",
       "<td style=\"font-family:monospace;white-space: pre;\" title=\"(4, 4)\"><center>83</center></td>\n",
       "<td style=\"font-family:monospace;white-space: pre;\" title=\"(4, 5)\"><center>84</center></td>\n",
       "<td style=\"font-family:monospace;white-space: pre;\" title=\"(4, 6)\"><center>85</center></td>\n",
       "</tr>\n",
       "<tr>\n",
       "<td style=\"font-family:monospace;white-space: pre;\" title=\"(5, 0)\"><center>86</center></td>\n",
       "<td style=\"font-family:monospace;white-space: pre;\" title=\"(5, 1)\"><center>87</center></td>\n",
       "<td style=\"font-family:monospace;white-space: pre;\" title=\"(5, 2)\"><center>88</center></td>\n",
       "<td style=\"font-family:monospace;white-space: pre;\" title=\"(5, 3)\"><center>89</center></td>\n",
       "<td style=\"font-family:monospace;white-space: pre;\" title=\"(5, 4)\"><center>90</center></td>\n",
       "<td style=\"font-family:monospace;white-space: pre;\" title=\"(5, 5)\"><center>91</center></td>\n",
       "<td style=\"font-family:monospace;white-space: pre;\" title=\"(5, 6)\"><center>92</center></td>\n",
       "</tr>\n",
       "<tr>\n",
       "<td style=\"font-family:monospace;white-space: pre;\" title=\"(6, 0)\"><center>93</center></td>\n",
       "<td style=\"font-family:monospace;white-space: pre;\" title=\"(6, 1)\"><center>94</center></td>\n",
       "<td style=\"font-family:monospace;white-space: pre;\" title=\"(6, 2)\"><center>95</center></td>\n",
       "<td style=\"font-family:monospace;white-space: pre;\" title=\"(6, 3)\"><center>96</center></td>\n",
       "<td style=\"font-family:monospace;white-space: pre;\" title=\"(6, 4)\"><center>97</center></td>\n",
       "<td style=\"font-family:monospace;white-space: pre;\" title=\"(6, 5)\"><center>98</center></td>\n",
       "<td style=\"font-family:monospace;white-space: pre;\" title=\"(6, 6)\"><center>99</center></td>\n",
       "</tr>\n",
       "</table>"
      ],
      "text/plain": [
       "array([[51, 52, 53, 54, 55, 56, 57],\n",
       "       [58, 59, 60, 61, 62, 63, 64],\n",
       "       [65, 66, 67, 68, 69, 70, 71],\n",
       "       [72, 73, 74, 75, 76, 77, 78],\n",
       "       [79, 80, 81, 82, 83, 84, 85],\n",
       "       [86, 87, 88, 89, 90, 91, 92],\n",
       "       [93, 94, 95, 96, 97, 98, 99]])"
      ]
     },
     "execution_count": 17,
     "metadata": {},
     "output_type": "execute_result"
    }
   ],
   "source": [
    "dataset = np.arange(1, 50).reshape(7, 7)\n",
    "new_dataset = dataset+50\n",
    "new_dataset"
   ]
  },
  {
   "cell_type": "code",
   "execution_count": 18,
   "metadata": {},
   "outputs": [
    {
     "data": {
      "text/plain": [
       "3675"
      ]
     },
     "execution_count": 18,
     "metadata": {},
     "output_type": "execute_result"
    }
   ],
   "source": [
    "dataset_sum = np.sum(new_dataset)\n",
    "dataset_sum"
   ]
  },
  {
   "cell_type": "code",
   "execution_count": 19,
   "metadata": {},
   "outputs": [
    {
     "data": {
      "text/plain": [
       "1875"
      ]
     },
     "execution_count": 19,
     "metadata": {},
     "output_type": "execute_result"
    }
   ],
   "source": [
    "odd = new_dataset % 2 != 0\n",
    "odd_array = new_dataset[odd]\n",
    "odd_sum = np.sum(odd_array)\n",
    "odd_sum"
   ]
  },
  {
   "cell_type": "code",
   "execution_count": 20,
   "metadata": {},
   "outputs": [
    {
     "data": {
      "text/plain": [
       "14.142135623730951"
      ]
     },
     "execution_count": 20,
     "metadata": {},
     "output_type": "execute_result"
    }
   ],
   "source": [
    "deviation = np.std(new_dataset)\n",
    "deviation"
   ]
  },
  {
   "cell_type": "code",
   "execution_count": 21,
   "metadata": {},
   "outputs": [
    {
     "data": {
      "text/html": [
       "<table style='border-style:solid;border-width:1px;'>\n",
       "<tr><td style=\"font-family:monospace;white-space: pre;\" title=\"0\"><center>378</center></td></tr>\n",
       "<tr><td style=\"font-family:monospace;white-space: pre;\" title=\"1\"><center>427</center></td></tr>\n",
       "<tr><td style=\"font-family:monospace;white-space: pre;\" title=\"2\"><center>476</center></td></tr>\n",
       "<tr><td style=\"font-family:monospace;white-space: pre;\" title=\"3\"><center>525</center></td></tr>\n",
       "<tr><td style=\"font-family:monospace;white-space: pre;\" title=\"4\"><center>574</center></td></tr>\n",
       "<tr><td style=\"font-family:monospace;white-space: pre;\" title=\"5\"><center>623</center></td></tr>\n",
       "<tr><td style=\"font-family:monospace;white-space: pre;\" title=\"6\"><center>672</center></td></tr>\n",
       "</table>"
      ],
      "text/plain": [
       "array([378, 427, 476, 525, 574, 623, 672])"
      ]
     },
     "execution_count": 21,
     "metadata": {},
     "output_type": "execute_result"
    }
   ],
   "source": [
    "total1 = np.sum(new_dataset, axis=1)\n",
    "total1"
   ]
  },
  {
   "cell_type": "code",
   "execution_count": 22,
   "metadata": {},
   "outputs": [
    {
     "data": {
      "text/html": [
       "<table style='border-style:solid;border-width:1px;'>\n",
       "<tr><td style=\"font-family:monospace;white-space: pre;\" title=\"0\"><center>504</center></td></tr>\n",
       "<tr><td style=\"font-family:monospace;white-space: pre;\" title=\"1\"><center>511</center></td></tr>\n",
       "<tr><td style=\"font-family:monospace;white-space: pre;\" title=\"2\"><center>518</center></td></tr>\n",
       "<tr><td style=\"font-family:monospace;white-space: pre;\" title=\"3\"><center>525</center></td></tr>\n",
       "<tr><td style=\"font-family:monospace;white-space: pre;\" title=\"4\"><center>532</center></td></tr>\n",
       "<tr><td style=\"font-family:monospace;white-space: pre;\" title=\"5\"><center>539</center></td></tr>\n",
       "<tr><td style=\"font-family:monospace;white-space: pre;\" title=\"6\"><center>546</center></td></tr>\n",
       "</table>"
      ],
      "text/plain": [
       "array([504, 511, 518, 525, 532, 539, 546])"
      ]
     },
     "execution_count": 22,
     "metadata": {},
     "output_type": "execute_result"
    }
   ],
   "source": [
    "total0 = np.sum(new_dataset, axis=0)\n",
    "total0"
   ]
  },
  {
   "cell_type": "code",
   "execution_count": 23,
   "metadata": {},
   "outputs": [
    {
     "name": "stdout",
     "output_type": "stream",
     "text": [
      "rows:\n",
      "378\n",
      "427\n",
      "476\n",
      "525\n",
      "574\n",
      "623\n",
      "672\n",
      "columns:\n",
      "504\n",
      "511\n",
      "518\n",
      "525\n",
      "532\n",
      "539\n",
      "546\n"
     ]
    }
   ],
   "source": [
    "print(\"rows:\")\n",
    "row_sums = []\n",
    "for row in new_dataset:\n",
    "    row_sum = sum(row)\n",
    "    row_sums.append(row_sum)\n",
    "for i, row_sum in enumerate(row_sums):\n",
    "    print(row_sum)\n",
    "\n",
    "print(\"columns:\")\n",
    "column_sums = [0] * len(new_dataset[0])\n",
    "for row in new_dataset:\n",
    "    for i, value in enumerate(row):\n",
    "        column_sums[i] += value\n",
    "for i, column_sum in enumerate(column_sums):\n",
    "    print(column_sum)"
   ]
  }
 ],
 "metadata": {
  "kernelspec": {
   "display_name": "Python 3",
   "language": "python",
   "name": "python3"
  },
  "language_info": {
   "codemirror_mode": {
    "name": "ipython",
    "version": 3
   },
   "file_extension": ".py",
   "mimetype": "text/x-python",
   "name": "python",
   "nbconvert_exporter": "python",
   "pygments_lexer": "ipython3",
   "version": "3.9.13"
  }
 },
 "nbformat": 4,
 "nbformat_minor": 2
}
